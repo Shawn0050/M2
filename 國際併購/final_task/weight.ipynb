{
 "cells": [
  {
   "cell_type": "code",
   "execution_count": 5,
   "metadata": {
    "dotnet_interactive": {
     "language": "csharp"
    },
    "polyglot_notebook": {
     "kernelName": "csharp"
    }
   },
   "outputs": [],
   "source": [
    "import pandas as pd\n",
    "import numpy as np\n",
    "import sympy as sp\n",
    "\n",
    "np.random.seed(123)\n"
   ]
  },
  {
   "cell_type": "markdown",
   "metadata": {},
   "source": [
    "## Step 1: Get Raw Date"
   ]
  },
  {
   "cell_type": "code",
   "execution_count": 6,
   "metadata": {},
   "outputs": [
    {
     "data": {
      "text/html": [
       "<div>\n",
       "<style scoped>\n",
       "    .dataframe tbody tr th:only-of-type {\n",
       "        vertical-align: middle;\n",
       "    }\n",
       "\n",
       "    .dataframe tbody tr th {\n",
       "        vertical-align: top;\n",
       "    }\n",
       "\n",
       "    .dataframe thead th {\n",
       "        text-align: right;\n",
       "    }\n",
       "</style>\n",
       "<table border=\"1\" class=\"dataframe\">\n",
       "  <thead>\n",
       "    <tr style=\"text-align: right;\">\n",
       "      <th></th>\n",
       "      <th>Date</th>\n",
       "      <th>無風險利率</th>\n",
       "      <th>市場風險溢酬</th>\n",
       "      <th>債券報酬率</th>\n",
       "    </tr>\n",
       "  </thead>\n",
       "  <tbody>\n",
       "    <tr>\n",
       "      <th>271</th>\n",
       "      <td>2024-08</td>\n",
       "      <td>0.02951</td>\n",
       "      <td>0.009623</td>\n",
       "      <td>0.029010</td>\n",
       "    </tr>\n",
       "    <tr>\n",
       "      <th>272</th>\n",
       "      <td>2024-09</td>\n",
       "      <td>0.02951</td>\n",
       "      <td>-0.005518</td>\n",
       "      <td>0.425897</td>\n",
       "    </tr>\n",
       "    <tr>\n",
       "      <th>273</th>\n",
       "      <td>2024-10</td>\n",
       "      <td>0.02951</td>\n",
       "      <td>0.024726</td>\n",
       "      <td>-0.264093</td>\n",
       "    </tr>\n",
       "  </tbody>\n",
       "</table>\n",
       "</div>"
      ],
      "text/plain": [
       "        Date    無風險利率    市場風險溢酬     債券報酬率\n",
       "271  2024-08  0.02951  0.009623  0.029010\n",
       "272  2024-09  0.02951 -0.005518  0.425897\n",
       "273  2024-10  0.02951  0.024726 -0.264093"
      ]
     },
     "execution_count": 6,
     "metadata": {},
     "output_type": "execute_result"
    }
   ],
   "source": [
    "df = pd.read_csv('/Users/shawn/Desktop/碩士/碩二/國際併購/final_task/FF_simple.csv')  # change by yourself\n",
    "df = df.tail(120)\n",
    "df['Date'] = pd.to_datetime(df['年月'], format='%Y%m').dt.strftime('%Y-%m')\n",
    "df = df[['Date', '無風險利率','市場風險溢酬']]\n",
    "df.loc[:, df.columns != 'Date'] *= 0.01\n",
    "\n",
    "# 生成資料\n",
    "df['債券報酬率'] = np.random.normal(0.10, 0.20, len(df))\n",
    "df['債券報酬率'] = df['債券報酬率'] * (0.2/df['債券報酬率'].std())\n",
    "df['無風險利率'] = df['無風險利率'] * (0.02/df['無風險利率'].mean())\n",
    "df.tail(3)"
   ]
  },
  {
   "cell_type": "code",
   "execution_count": 7,
   "metadata": {},
   "outputs": [],
   "source": [
    "df.to_csv('/Users/shawn/Desktop/碩士/碩二/國際併購/final_task/weight.csv')"
   ]
  },
  {
   "cell_type": "markdown",
   "metadata": {},
   "source": [
    "## Step 2 : 調整成 Excess Return"
   ]
  },
  {
   "cell_type": "code",
   "execution_count": 8,
   "metadata": {},
   "outputs": [
    {
     "data": {
      "text/html": [
       "<div>\n",
       "<style scoped>\n",
       "    .dataframe tbody tr th:only-of-type {\n",
       "        vertical-align: middle;\n",
       "    }\n",
       "\n",
       "    .dataframe tbody tr th {\n",
       "        vertical-align: top;\n",
       "    }\n",
       "\n",
       "    .dataframe thead th {\n",
       "        text-align: right;\n",
       "    }\n",
       "</style>\n",
       "<table border=\"1\" class=\"dataframe\">\n",
       "  <thead>\n",
       "    <tr style=\"text-align: right;\">\n",
       "      <th></th>\n",
       "      <th>Date</th>\n",
       "      <th>無風險利率</th>\n",
       "      <th>市場風險溢酬</th>\n",
       "      <th>債券報酬率</th>\n",
       "      <th>市場報酬率_adj</th>\n",
       "      <th>債券報酬率_adj</th>\n",
       "    </tr>\n",
       "  </thead>\n",
       "  <tbody>\n",
       "    <tr>\n",
       "      <th>271</th>\n",
       "      <td>2024-08</td>\n",
       "      <td>0.02951</td>\n",
       "      <td>0.009623</td>\n",
       "      <td>0.029010</td>\n",
       "      <td>0.009623</td>\n",
       "      <td>-0.000499</td>\n",
       "    </tr>\n",
       "    <tr>\n",
       "      <th>272</th>\n",
       "      <td>2024-09</td>\n",
       "      <td>0.02951</td>\n",
       "      <td>-0.005518</td>\n",
       "      <td>0.425897</td>\n",
       "      <td>-0.005518</td>\n",
       "      <td>0.396387</td>\n",
       "    </tr>\n",
       "    <tr>\n",
       "      <th>273</th>\n",
       "      <td>2024-10</td>\n",
       "      <td>0.02951</td>\n",
       "      <td>0.024726</td>\n",
       "      <td>-0.264093</td>\n",
       "      <td>0.024726</td>\n",
       "      <td>-0.293602</td>\n",
       "    </tr>\n",
       "  </tbody>\n",
       "</table>\n",
       "</div>"
      ],
      "text/plain": [
       "        Date    無風險利率    市場風險溢酬     債券報酬率  市場報酬率_adj  債券報酬率_adj\n",
       "271  2024-08  0.02951  0.009623  0.029010   0.009623  -0.000499\n",
       "272  2024-09  0.02951 -0.005518  0.425897  -0.005518   0.396387\n",
       "273  2024-10  0.02951  0.024726 -0.264093   0.024726  -0.293602"
      ]
     },
     "execution_count": 8,
     "metadata": {},
     "output_type": "execute_result"
    }
   ],
   "source": [
    "df['市場報酬率_adj'] = df['市場風險溢酬']  # 本來就是 Excess Return  形式\n",
    "df['債券報酬率_adj'] = df['債券報酬率'] - df['無風險利率']\n",
    "df.tail(3)"
   ]
  },
  {
   "cell_type": "markdown",
   "metadata": {},
   "source": [
    "## Step 3: 計算 V (conariance matrix)、$\\mu$ (預期報酬率)"
   ]
  },
  {
   "cell_type": "code",
   "execution_count": 9,
   "metadata": {},
   "outputs": [
    {
     "data": {
      "text/plain": [
       "(array([[ 0.00209741, -0.00033558],\n",
       "        [-0.00033558,  0.04007316]]),\n",
       " array([[0.01109965],\n",
       "        [0.06938055]]),\n",
       " array([[477.41773784,   3.99798418],\n",
       "        [  3.99798418,  24.98783807]]))"
      ]
     },
     "execution_count": 9,
     "metadata": {},
     "output_type": "execute_result"
    }
   ],
   "source": [
    "V = df[[\"市場報酬率_adj\", \"債券報酬率_adj\"]].cov()\n",
    "mean = df[[\"市場報酬率_adj\", \"債券報酬率_adj\"]].mean()\n",
    "\n",
    "V_matrix = V.values\n",
    "mean_matrix = mean.values.reshape(-1, 1)\n",
    "\n",
    "V_matrix, mean_matrix, np.linalg.inv(V_matrix)"
   ]
  },
  {
   "cell_type": "markdown",
   "metadata": {},
   "source": [
    "## [Optional] 計算 t (benchmark of RRA) "
   ]
  },
  {
   "cell_type": "code",
   "execution_count": 10,
   "metadata": {},
   "outputs": [
    {
     "data": {
      "text/plain": [
       "[0.288265211844553]"
      ]
     },
     "execution_count": 10,
     "metadata": {},
     "output_type": "execute_result"
    }
   ],
   "source": [
    "expected_rf = df['無風險利率'].mean()\n",
    "expected_stock_mkt_retx = df['債券報酬率'].mean()\n",
    "stock_mkt_vola = df['債券報酬率'].std()\n",
    "\n",
    "\n",
    "t = sp.symbols('t', positive=True, real=True)\n",
    "equation = sp.Eq(expected_rf, expected_stock_mkt_retx - (1 / (2 * t)) * (stock_mkt_vola ** 2))\n",
    "t = sp.solve(equation, t)\n",
    "t"
   ]
  },
  {
   "cell_type": "markdown",
   "metadata": {},
   "source": [
    "## Step 4: 計算權重 $\\theta$"
   ]
  },
  {
   "cell_type": "code",
   "execution_count": 11,
   "metadata": {},
   "outputs": [
    {
     "data": {
      "text/plain": [
       "array([[1.60752599],\n",
       "       [0.51254888]])"
      ]
     },
     "execution_count": 11,
     "metadata": {},
     "output_type": "execute_result"
    }
   ],
   "source": [
    "V_matrix_inverse = np.linalg.inv(V_matrix)\n",
    "theta = np.dot((t * V_matrix_inverse), mean_matrix)\n",
    "theta = theta.astype(float)\n",
    "theta"
   ]
  },
  {
   "cell_type": "code",
   "execution_count": 12,
   "metadata": {},
   "outputs": [
    {
     "data": {
      "text/plain": [
       "1.12"
      ]
     },
     "execution_count": 12,
     "metadata": {},
     "output_type": "execute_result"
    }
   ],
   "source": [
    "long_position = sum(theta[i][0].sum() for i in range(len(theta)) if theta[i][0] > 0)\n",
    "short_position = sum(theta[i][0].sum() for i in range(len(theta)) if theta[i][0] < 0)\n",
    "equity = 1\n",
    "debt = long_position - equity\n",
    "ck_lambda = debt/equity\n",
    "round(ck_lambda, 2)"
   ]
  },
  {
   "cell_type": "markdown",
   "metadata": {},
   "source": [
    "## 模擬"
   ]
  },
  {
   "cell_type": "code",
   "execution_count": 13,
   "metadata": {},
   "outputs": [
    {
     "data": {
      "text/plain": [
       "array([[ 19.7175],\n",
       "       [-15.405 ]])"
      ]
     },
     "execution_count": 13,
     "metadata": {},
     "output_type": "execute_result"
    }
   ],
   "source": [
    "t = 0.25\n",
    "V_matrix_inverse = 10000*np.array([[0.49, -0.39], [-0.39, 0.34]])\n",
    "mean_matrix = 0.01*np.array([[1.92, 0.39]]).T\n",
    "\n",
    "theta = np.dot((t * V_matrix_inverse), mean_matrix)\n",
    "theta"
   ]
  },
  {
   "cell_type": "code",
   "execution_count": 14,
   "metadata": {},
   "outputs": [
    {
     "data": {
      "text/plain": [
       "18.72"
      ]
     },
     "execution_count": 14,
     "metadata": {},
     "output_type": "execute_result"
    }
   ],
   "source": [
    "long_position = sum(theta[i][0].sum() for i in range(len(theta)) if theta[i][0] > 0)\n",
    "short_position = sum(theta[i][0].sum() for i in range(len(theta)) if theta[i][0] < 0)\n",
    "equity = 1\n",
    "debt = long_position - equity\n",
    "ck_lambda = debt/equity\n",
    "round(ck_lambda, 2)"
   ]
  }
 ],
 "metadata": {
  "kernelspec": {
   "display_name": "Python 3",
   "language": "python",
   "name": "python3"
  },
  "language_info": {
   "codemirror_mode": {
    "name": "ipython",
    "version": 3
   },
   "file_extension": ".py",
   "mimetype": "text/x-python",
   "name": "python",
   "nbconvert_exporter": "python",
   "pygments_lexer": "ipython3",
   "version": "3.11.5"
  },
  "polyglot_notebook": {
   "kernelInfo": {
    "defaultKernelName": "csharp",
    "items": [
     {
      "aliases": [],
      "name": "csharp"
     }
    ]
   }
  }
 },
 "nbformat": 4,
 "nbformat_minor": 2
}
